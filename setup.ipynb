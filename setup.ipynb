{
 "cells": [
  {
   "attachments": {},
   "cell_type": "markdown",
   "metadata": {},
   "source": [
    "# Sommelier Agent Demo Setup\n",
    "\n",
    "To simplify the content of the demo, this has been split into \"setup\" and \"demo\" notebooks. This is the Setup notebook.\n",
    "\n",
    "> **Note:** This demo has been created using Python 3.11.4."
   ]
  },
  {
   "attachments": {},
   "cell_type": "markdown",
   "metadata": {},
   "source": [
    "## Setup - Third Party Accounts"
   ]
  },
  {
   "attachments": {},
   "cell_type": "markdown",
   "metadata": {},
   "source": [
    "### OpenAI API Account\n",
    "You will need to have an API account with OpenAI created, see [https://platform.openai.com/](https://platform.openai.com/). From here,\n",
    "you will need to have created an [API key](https://platform.openai.com/account/api-keys).\n",
    "\n",
    "### Astra Database\n",
    "You should have created an Astra Database with Vector Search. If you are unfamiliar with Astra, it would be suggested to follow the\n",
    "\"Getting Started with Vector Search\" quick-start guide, including getting a working Python application.\n",
    "\n",
    "To proceed with this exercise, you'll need:\n",
    "\n",
    "1. Your Secure Connect Bundle (`.zip` file)\n",
    "2. Your Client ID\n",
    "3. Your Client Secret\n",
    "4. A keyspace named `vsearch` (or whatever you'd like to call it, you can set in `.env` file later)"
   ]
  },
  {
   "attachments": {},
   "cell_type": "markdown",
   "metadata": {},
   "source": [
    "## Setup - File Downloads\n",
    "\n",
    "The following files are in [WineAgent.zip](https://drive.google.com/file/d/1wWganXifTIxgPF-7b6fW0fQm36FAMcqn/view?usp=sharing), which \n",
    "you should download and unzip locally into the root of this project directory."
   ]
  },
  {
   "attachments": {},
   "cell_type": "markdown",
   "metadata": {},
   "source": [
    "### `wine_data.db` : Wine Tasting Notes Download\n",
    "\n",
    "Wine Spectator publishes [Daily Picks](https://www.winespectator.com/dailypicks), in which tasting notes of a recent review are highlighted\n",
    "in one of three different price categories.As this is nicely structured, it can serve as a simulation for what a restaurant or other \n",
    "food-related retailer might be able to access from their own wine catalogue.\n",
    "\n",
    "Using [download.py](download.py), a number of reviews have been downloaded from Wine Spectator and downloaded into a sqlite3 database. \n",
    "Within this database is the raw HTML response text.\n",
    "\n",
    "**Please do not run `download.py`**: this data has already been downloaded, and there is no need to request it from winespectator.com \n",
    "directly. You can view the content with any sqlite3 browser.\n",
    "\n",
    "### `wines.parquet` : Scraped HTML\n",
    "Using [scrape.py](scrape.py), the data within `wine_data.db` is parsed into multiple records and written into a Parquet file `wines.parquet`. \n",
    "For example, the following Wine Spectator review:\n",
    "\n",
    "![Wine Review](review-snapshot.png)\n",
    "\n",
    "contains a winery name (Bodegas Emilio Moro), a wine name (Tempranillo Ribera Del Duero Finca Resalso 2021), a review date (Jun. 19, 2023),\n",
    "a price ($19), a score (89 points), the reviewer (Alison Napjus), and the tasting notes along with an indication of the drinkability\n",
    "of the wine and relative rarity.\n",
    "\n",
    "### `wines-embeddings.parquet` : OpenAI Embeddings\n",
    "Using [embed.py](embed.py), the parsed entries in `wines.parquet` are embedded with OpenAI's `text-embedding-ada-002` text embedding \n",
    "model. These are saved in another Parquet file `wines-embeddings.parquet`. You can certainly run `embed.py` if you'd like to pay\n",
    "to have these re-generated, or if you would like to use a different embedding model."
   ]
  },
  {
   "attachments": {},
   "cell_type": "markdown",
   "metadata": {},
   "source": [
    "## Create a `.env` File"
   ]
  },
  {
   "attachments": {},
   "cell_type": "markdown",
   "metadata": {},
   "source": [
    "The example code uses `dot_env` to load variables into the environment. This file reside in the root of the project and should contain:\n",
    "```\n",
    "OPENAI_API_KEY=\"<Your OpenAI API key>\"\n",
    "ASTRA_SECUREBUNDLE_PATH=\"<your/path/to/secure-connect-database.zip>\"\n",
    "ASTRA_CLIENT_ID=\"<Your Client ID\"\n",
    "ASTRA_CLIENT_SECRET=\"<Your Client Secret>\"\n",
    "ASTRA_KEYSPACE=\"vsearch\"\n",
    "ASTRA_TABLE=\"winespectator\"\n",
    "```\n",
    "Note that the secure connect bundle path is relative to the root of this project directory. The keyspace and table names should be amended to match your keyspace and table names."
   ]
  },
  {
   "attachments": {},
   "cell_type": "markdown",
   "metadata": {},
   "source": [
    "## Python Module Installs\n",
    "Install the following Python modules and versions for this project:"
   ]
  },
  {
   "cell_type": "code",
   "execution_count": null,
   "metadata": {},
   "outputs": [],
   "source": [
    "%pip install -qU \\\n",
    "    \"cassandra-driver>=3.28.0\" \\\n",
    "    \"openai==0.27.7\" \\\n",
    "    \"tiktoken==0.4.0\" \\\n",
    "    \"langchain>=0.0.218\" \\\n",
    "    \"cassio==0.0.7\" \\\n",
    "    \"python-dotenv\" \\\n",
    "    pandas \\\n",
    "    pyarrow \\\n",
    "    tqdm \\\n",
    "    ipywidgets \\\n",
    "    bs4 \\\n",
    "    streamlit"
   ]
  },
  {
   "attachments": {},
   "cell_type": "markdown",
   "metadata": {},
   "source": [
    "## Environment Validation\n",
    "This code validates the environment is ready to go: it can connect to OpenAI API as well as Astra."
   ]
  },
  {
   "attachments": {},
   "cell_type": "markdown",
   "metadata": {},
   "source": [
    "### Verify `.env` file is set up"
   ]
  },
  {
   "cell_type": "code",
   "execution_count": null,
   "metadata": {},
   "outputs": [],
   "source": [
    "import os\n",
    "from dotenv import load_dotenv\n",
    "if not load_dotenv('.env',override=True):\n",
    "    raise Exception(\"Couldn't load .env file\")\n",
    "\n",
    "envVars = ['OPENAI_API_KEY','ASTRA_SECUREBUNDLE_PATH','ASTRA_CLIENT_ID','ASTRA_CLIENT_SECRET','ASTRA_KEYSPACE', 'ASTRA_TABLE']\n",
    "missing = []\n",
    "\n",
    "for var in envVars:\n",
    "    if var not in os.environ:\n",
    "        missing.append(var)\n",
    "\n",
    "if missing:\n",
    "    raise EnvironmentError(f'These environment variables are missing: {missing}')"
   ]
  },
  {
   "attachments": {},
   "cell_type": "markdown",
   "metadata": {},
   "source": [
    "### Verify OpenAI API Key"
   ]
  },
  {
   "cell_type": "code",
   "execution_count": null,
   "metadata": {},
   "outputs": [],
   "source": [
    "import os\n",
    "import openai\n",
    "openai.api_key = os.environ['OPENAI_API_KEY']\n",
    "models = openai.Model.list()\n",
    "if (len(models) == 0):\n",
    "    raise Exception(\"Your OpenAI API key does not appear to be valid. Please check it and try again.\")"
   ]
  },
  {
   "attachments": {},
   "cell_type": "markdown",
   "metadata": {},
   "source": [
    "### Verify Astra Database Connection"
   ]
  },
  {
   "cell_type": "code",
   "execution_count": null,
   "metadata": {},
   "outputs": [],
   "source": [
    "from cassandra.cluster import Cluster\n",
    "from cassandra.cluster import NoHostAvailable\n",
    "from cassandra.auth import PlainTextAuthProvider\n",
    "\n",
    "cloud_config = {'secure_connect_bundle': os.environ['ASTRA_SECUREBUNDLE_PATH']}\n",
    "auth_provider = PlainTextAuthProvider(os.environ['ASTRA_CLIENT_ID'], os.environ['ASTRA_CLIENT_SECRET'])\n",
    "cluster = Cluster(cloud=cloud_config\n",
    "                  ,auth_provider=auth_provider\n",
    ")\n",
    "\n",
    "keyspace = os.environ['ASTRA_KEYSPACE']\n",
    "try:\n",
    "    session = cluster.connect()\n",
    "    print(\"Successfully connected to the cluster.\")\n",
    "\n",
    "    rows = session.execute(f\"SELECT keyspace_name FROM system_schema.keyspaces WHERE keyspace_name = '{keyspace}';\")\n",
    "    if rows.one() is not None:\n",
    "        print(f\"Keyspace '{keyspace}' exists.\")\n",
    "    else:\n",
    "        raise EnvironmentError(f\"Keyspace '{keyspace}' does not exist.\")\n",
    " \n",
    "    session.shutdown()\n",
    "except NoHostAvailable as e:\n",
    "    print(\"Connection failed, please check your node IPs or the network connection.\")\n",
    "    print(f\"Exception: {e}\")\n"
   ]
  },
  {
   "attachments": {},
   "cell_type": "markdown",
   "metadata": {},
   "source": [
    "## Load Embeddings to Astra\n",
    "Load `wine-embeddings.parquet` into Astra."
   ]
  },
  {
   "attachments": {},
   "cell_type": "markdown",
   "metadata": {},
   "source": [
    "The load itself will take approximately 2 minutes, with the TQDM progress bar being very \"lumpy\" as it's not well configured for the multi-threading. There may also be timeout error messages, but ultimately a small number of even `Error rows` reported will not affect the demonstration."
   ]
  },
  {
   "cell_type": "code",
   "execution_count": null,
   "metadata": {},
   "outputs": [],
   "source": [
    "%run -i loadAstra.py"
   ]
  },
  {
   "attachments": {},
   "cell_type": "markdown",
   "metadata": {},
   "source": [
    "Look at some of the data that has been loaded:"
   ]
  },
  {
   "cell_type": "code",
   "execution_count": null,
   "metadata": {},
   "outputs": [],
   "source": [
    "session = cluster.connect()\n",
    "\n",
    "rows = session.execute(f\"SELECT document_id, document, metadata_blob FROM {os.environ['ASTRA_KEYSPACE']}.{os.environ['ASTRA_TABLE']} LIMIT 5;\")\n",
    "for row in rows:\n",
    "    print(f\"document_id: {row.document_id}, document: {row.document}, metadata_blob: {row.metadata_blob}\")\n",
    "\n",
    "session.shutdown()"
   ]
  },
  {
   "attachments": {},
   "cell_type": "markdown",
   "metadata": {},
   "source": [
    "## Setup Complete\n",
    "You are now ready to run the demo notebook [demo.ipynb](demo.ipynb).\n",
    "\n",
    "You may also wish to run the UI demo, which you can do via the command line (being sure to have activated the correct Python environment):\n",
    "```\n",
    "streamlit run demo-ui.py\n",
    "```"
   ]
  }
 ],
 "metadata": {
  "kernelspec": {
   "display_name": ".venv",
   "language": "python",
   "name": "python3"
  },
  "language_info": {
   "codemirror_mode": {
    "name": "ipython",
    "version": 3
   },
   "file_extension": ".py",
   "mimetype": "text/x-python",
   "name": "python",
   "nbconvert_exporter": "python",
   "pygments_lexer": "ipython3",
   "version": "3.11.4"
  },
  "orig_nbformat": 4
 },
 "nbformat": 4,
 "nbformat_minor": 2
}
