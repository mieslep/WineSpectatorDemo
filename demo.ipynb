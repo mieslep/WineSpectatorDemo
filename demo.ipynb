{
 "cells": [
  {
   "attachments": {},
   "cell_type": "markdown",
   "metadata": {},
   "source": [
    "# Sommelier Agent Demo\n",
    "\n",
    "To simplify the content of the demo, this has been split into \"setup\" and \"demo\" notebooks. This is the Demo notebook, and assumes the Setup notebook has been run and validated, and that the Astra database has been populated with the demo data."
   ]
  },
  {
   "attachments": {},
   "cell_type": "markdown",
   "metadata": {},
   "source": [
    "## Load `.env`"
   ]
  },
  {
   "cell_type": "code",
   "execution_count": 9,
   "metadata": {},
   "outputs": [],
   "source": [
    "import os\n",
    "from dotenv import load_dotenv\n",
    "if not load_dotenv('.env',override=True):\n",
    "    raise Exception(\"Couldn't load .env file\")"
   ]
  },
  {
   "attachments": {},
   "cell_type": "markdown",
   "metadata": {},
   "source": [
    "## Wine Pairing Vector (ANN) Search\n",
    "Using Langchain, we can use an engineered prompt to search for wines that pair well with a given list of foods. Here we are are relying on the general LLM model to provide the context for the search, with no specific knowledge of wines in our database."
   ]
  },
  {
   "cell_type": "code",
   "execution_count": 10,
   "metadata": {},
   "outputs": [
    {
     "name": "stderr",
     "output_type": "stream",
     "text": [
      "Retrying langchain.llms.openai.completion_with_retry.<locals>._completion_with_retry in 4.0 seconds as it raised APIConnectionError: Error communicating with OpenAI: ('Connection aborted.', RemoteDisconnected('Remote end closed connection without response')).\n"
     ]
    },
    {
     "name": "stdout",
     "output_type": "stream",
     "text": [
      "\n",
      "\n",
      "Type: White Wine\n",
      "Flavors: Citrus, Stone Fruit, Herbal\n",
      "Aroma Profiles: Lemon, Peach, Thyme, Oak\n"
     ]
    }
   ],
   "source": [
    "from langchain.llms import OpenAI\n",
    "\n",
    "llm = OpenAI(openai_api_key=os.environ['OPENAI_API_KEY'], temperature=0.0)\n",
    "\n",
    "# Generate wine pairing suggestions based on the user's input\n",
    "food_list = \"salmon, broccoli, rice, and hollandaise sauce\"\n",
    "\n",
    "prompt = f\"What are some suitable wine types, flavors, and aroma profiles for a meal with {food_list}? Please respond in format that would be suitable for searching a database of professional wine reviews.\"\n",
    "flavor_response = llm(prompt)\n",
    "print(flavor_response)"
   ]
  },
  {
   "attachments": {},
   "cell_type": "markdown",
   "metadata": {},
   "source": [
    "## Establish Connection to Astra\n",
    "In preparation for using Astra as a vector store, we need to establish a connection to the database."
   ]
  },
  {
   "cell_type": "code",
   "execution_count": 11,
   "metadata": {},
   "outputs": [],
   "source": [
    "from cassandra.cluster import Cluster\n",
    "from cassandra.auth import PlainTextAuthProvider\n",
    "\n",
    "cloud_config = {'secure_connect_bundle': os.environ['ASTRA_SECUREBUNDLE_PATH']}\n",
    "auth_provider = PlainTextAuthProvider(os.environ['ASTRA_CLIENT_ID'], os.environ['ASTRA_CLIENT_SECRET'])\n",
    "cluster = Cluster(cloud=cloud_config, auth_provider=auth_provider)\n",
    "session = cluster.connect()"
   ]
  },
  {
   "attachments": {},
   "cell_type": "markdown",
   "metadata": {},
   "source": [
    "## Define a Langchain VectorStore\n",
    "We can use the Astra connection to define a Langchain VectorStore."
   ]
  },
  {
   "cell_type": "code",
   "execution_count": 12,
   "metadata": {},
   "outputs": [],
   "source": [
    "from langchain.embeddings import OpenAIEmbeddings\n",
    "from langchain.vectorstores import Cassandra\n",
    "\n",
    "# This is the model we used to generate our embeddings\n",
    "embed_model = \"text-embedding-ada-002\"\n",
    "\n",
    "embedding_function = OpenAIEmbeddings(model=embed_model)\n",
    "\n",
    "cassVstore = Cassandra(\n",
    "    embedding=embedding_function,\n",
    "    session=session,\n",
    "    keyspace=os.environ['ASTRA_KEYSPACE'],\n",
    "    table_name=os.environ['ASTRA_TABLE']\n",
    "    )"
   ]
  },
  {
   "attachments": {},
   "cell_type": "markdown",
   "metadata": {},
   "source": [
    "## Search the VectorStore for Wine Pairings\n",
    "Our `flavor_response` above was requested to be in a format sutable for searching a database of professional wine reviews. Let's use that to search for wines that pair well with our meal."
   ]
  },
  {
   "cell_type": "code",
   "execution_count": 13,
   "metadata": {},
   "outputs": [
    {
     "name": "stdout",
     "output_type": "stream",
     "text": [
      "\n",
      "## Wine 0\n",
      "\n",
      "Bright grapefruit peel and star fruit notes are laced with bouncy thyme and sweet pea flavors. Drink now. 9,000 cases made, 700 cases imported.\n",
      "{'Review Date': '2021-03-29T00:00:00', 'Category': 'Less than $20', 'Score': 86, 'Winery': 'CHÂTEAU LAMOTHE VINCENT', 'Winery URL': '/wine/wine-detail/id/1243131/name/bordeaux-white-2018', 'Wine Name': 'Bordeaux White 2018', 'Wine URL': '/wine/wine-detail/id/1243131/name/bordeaux-white-2018', 'Price': 12.0, 'Reviewer': 'James Molesworth'}\n",
      "\n",
      "## Wine 1\n",
      "\n",
      "This has a plush feel, with a light shortbread note around the white peach, green fig and lime flavors. Verbena and honeysuckle accents add bounce on the finish. Vermentino. Drink now. 10,000 cases made, 2,000 cases imported.\n",
      "{'Review Date': '2018-11-07T00:00:00', 'Category': '$20 to $40', 'Score': 89, 'Winery': 'DOMAINE PETRONI', 'Winery URL': '/wine/wine-detail/id/455320/name/corse-white-2017', 'Wine Name': 'Corse White 2017', 'Wine URL': '/wine/wine-detail/id/455320/name/corse-white-2017', 'Price': 25.0, 'Reviewer': 'James Molesworth'}\n",
      "\n",
      "## Wine 2\n",
      "\n",
      "Thyme, lime and oyster shell notes gives this a crackling, mouthwatering profile. The bony finish completes the experience. Drink now. 2,000 cases imported.\n",
      "{'Review Date': '2018-09-14T00:00:00', 'Category': 'Less than $20', 'Score': 88, 'Winery': 'DOMAINE DE LA FRUITIÈRE', 'Winery URL': '/wine/wine-detail/id/455836/name/val-de-loire-vignes-blanches-2017', 'Wine Name': 'Val De Loire Vignes Blanches 2017', 'Wine URL': '/wine/wine-detail/id/455836/name/val-de-loire-vignes-blanches-2017', 'Price': 14.0, 'Reviewer': 'James Molesworth'}\n"
     ]
    }
   ],
   "source": [
    "wine_matches = cassVstore.similarity_search(flavor_response, k=3)\n",
    "\n",
    "for i, d in enumerate(wine_matches):\n",
    "    print(f\"\\n## Wine {i}\\n\")\n",
    "    print(d.page_content)\n",
    "    print(d.metadata)"
   ]
  },
  {
   "attachments": {},
   "cell_type": "markdown",
   "metadata": {},
   "source": [
    "These results are the reviews from our Wine Spectator database that have flavors that would be best-paried with our food list. These are as a wine expert would describe them, but a sommelier would tell us why they pair well."
   ]
  },
  {
   "attachments": {},
   "cell_type": "markdown",
   "metadata": {},
   "source": [
    "## Sommelier Prompt\n",
    "Let's use a prompt to generate a sommelier-style description of each wine."
   ]
  },
  {
   "cell_type": "code",
   "execution_count": 14,
   "metadata": {},
   "outputs": [
    {
     "name": "stdout",
     "output_type": "stream",
     "text": [
      "Wine 0: This Bordeaux White 2018 is a great pairing for this meal. Its bright grapefruit peel and star fruit notes will bring out the sweetness of the salmon, while the thyme and sweet pea flavors will complement the earthy notes of the broccoli. The acidity of the wine will also help to cut through the richness of the hollandaise sauce, making for a balanced and enjoyable meal.\n",
      "\n",
      "Wine 1: This Corse White 2017 is a great pairing for this meal. Its plush feel and light shortbread note will complement the salmon and hollandaise sauce, while its white peach, green fig, and lime flavors will bring out the sweetness of the broccoli. The verbena and honeysuckle accents will add a nice brightness to the rice, and the finish will be refreshing and light. This is a great choice for a summer meal.\n",
      "\n",
      "Wine 2: This Val De Loire Vignes Blanches 2017 is a great pairing for this meal. The thyme, lime, and oyster shell notes in the wine will bring out the delicate flavors of the salmon, while the crackling, mouthwatering profile will complement the broccoli and rice. The bony finish will provide a nice contrast to the creamy hollandaise sauce, making for a truly enjoyable experience. Drink now to enjoy the freshness of the wine.\n",
      "\n"
     ]
    }
   ],
   "source": [
    "prompts=[]\n",
    "for i, d in enumerate(wine_matches):\n",
    "    pairing_prompt = f\"Given a meal with {food_list}, why would you pair it with {d.metadata['Wine Name']}, described as {d.page_content}? The response should be as a sommelier would describe it.\"\n",
    "    prompts.append(pairing_prompt)\n",
    "\n",
    "wines = llm.generate(prompts)\n",
    "\n",
    "for i, generation in enumerate(wines.generations):\n",
    "    description = generation[0].text.strip('\\n')\n",
    "    print(f\"Wine {i}: {description}\\n\")"
   ]
  },
  {
   "attachments": {},
   "cell_type": "markdown",
   "metadata": {},
   "source": [
    "This is more like it! Whether or not this makes any _real_ sense would take somebody who knows something about wine, but the principle certainly seems to work!"
   ]
  }
 ],
 "metadata": {
  "kernelspec": {
   "display_name": ".venv",
   "language": "python",
   "name": "python3"
  },
  "language_info": {
   "codemirror_mode": {
    "name": "ipython",
    "version": 3
   },
   "file_extension": ".py",
   "mimetype": "text/x-python",
   "name": "python",
   "nbconvert_exporter": "python",
   "pygments_lexer": "ipython3",
   "version": "3.11.4"
  },
  "orig_nbformat": 4
 },
 "nbformat": 4,
 "nbformat_minor": 2
}
